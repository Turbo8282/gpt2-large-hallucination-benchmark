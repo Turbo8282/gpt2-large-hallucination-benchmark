{
 "cells": [
  {
   "cell_type": "code",
   "execution_count": null,
   "id": "297d5d05",
   "metadata": {},
   "outputs": [],
   "source": [
    "from transformers import pipeline, set_seed"
   ]
  },
  {
   "cell_type": "code",
   "execution_count": null,
   "id": "0f591e83",
   "metadata": {},
   "outputs": [],
   "source": [
    "generator = pipeline('text-generation', model='gpt2-large')"
   ]
  },
  {
   "cell_type": "code",
   "execution_count": null,
   "id": "f11694de",
   "metadata": {},
   "outputs": [],
   "source": [
    "set_seed(42)"
   ]
  },
  {
   "cell_type": "code",
   "execution_count": null,
   "id": "df591ef6",
   "metadata": {},
   "outputs": [],
   "source": [
    "generator(\"Hello, I'm a language model,\", max_length=30, num_return_sequences=5)"
   ]
  }
 ],
 "metadata": {
  "language_info": {
   "name": "python"
  }
 },
 "nbformat": 4,
 "nbformat_minor": 5
}
